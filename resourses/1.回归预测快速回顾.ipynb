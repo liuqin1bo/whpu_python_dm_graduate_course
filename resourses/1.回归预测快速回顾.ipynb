{
 "cells": [
  {
   "cell_type": "code",
   "execution_count": 1,
   "metadata": {},
   "outputs": [
    {
     "data": {
      "text/plain": [
       "'/Users/qinbo/miniconda3/envs/py37/lib/python3.7/site-packages/matplotlib/mpl-data/matplotlibrc'"
      ]
     },
     "execution_count": 1,
     "metadata": {},
     "output_type": "execute_result"
    }
   ],
   "source": [
    "# matplot作图中文无法渲染处理办法\n",
    "\n",
    "import matplotlib\n",
    "matplotlib.matplotlib_fname()\n",
    "# '/Users/qinbo/miniconda3/envs/py37/lib/python3.7/site-packages/matplotlib/mpl-data/matplotlibrc'\n",
    "# 编辑上述文件找到找到\n",
    "## 行: #font.family: sans-serif，去掉最前面的#\n",
    "## 行: #font.sans-serif: ...,  去掉最前面的#, 并更改为 font.sans-serif: SimHei, ...\n",
    "# 搜索下载SimHei.ttf 字体文件, 并复制到目录 ...mpl-data/fonts/ttf/SimHei.ttf\n",
    "# 清字体缓存文件 .matplotlib/*.json\n",
    "# 若在jupyter notebook环境中, 重启python kernel"
   ]
  },
  {
   "cell_type": "markdown",
   "metadata": {},
   "source": [
    "回归分析举例:《Python数据挖掘与机器学习》第五章"
   ]
  },
  {
   "cell_type": "markdown",
   "metadata": {},
   "source": [
    "【例5-1】分析预测房子的大小（平方英尺）和房价（美元）之间的对应关系。"
   ]
  },
  {
   "cell_type": "code",
   "execution_count": 2,
   "metadata": {},
   "outputs": [
    {
     "data": {
      "image/png": "[encoded data removed]",
      "text/plain": [
       "<Figure size 432x288 with 1 Axes>"
      ]
     },
     "metadata": {
      "needs_background": "light"
     },
     "output_type": "display_data"
    }
   ],
   "source": [
    "import matplotlib\n",
    "import matplotlib.pyplot as plt\n",
    "import pandas as pd\n",
    "UseMacbook = True\n",
    "# /Users/qinbo/miniconda3/envs/py37/lib/python3.7/site-packages/matplotlib/mpl-data/matplotlibrc\n",
    "# 下面三条命令应该可以让图形可以显示中文\n",
    "if UseMacbook:\n",
    "    plt.rcParams['font.sans-serif'] = ['SimHei']\n",
    "    plt.rcParams['axes.unicode_minus'] =False\n",
    "else:\n",
    "    from matplotlib.pylab import mpl\n",
    "    mpl.rcParams['font.sans-serif'] = ['SimHei']  # 指定默认字体\n",
    "    mpl.rcParams['axes.unicode_minus'] = False  # 解决保存图像是负号'-'显示为方块的问题\n",
    "import matplotlib.pyplot as plt\n",
    "%matplotlib inline\n",
    "plt.rcParams['font.sans-serif']=['SimHei']\n",
    "plt.rcParams['font.size']=13\n",
    "y=[6450, 7450, 8450, 9450, 11450, 15450, 18450]\n",
    "x=[150,200, 250,300, 350, 400, 600]\n",
    "plt.scatter(x,y)\n",
    "plt.xlabel('面积(平方英尺)')\n",
    "plt.ylabel('售价(美元）')\n",
    "plt.show()\n"
   ]
  },
  {
   "cell_type": "markdown",
   "metadata": {},
   "source": [
    "对鸢尾花数据集中的'petal-length'和'petal-width'两列数据进行回归分析。\n",
    "\n",
    "（1）导入包和数据\n"
   ]
  },
  {
   "cell_type": "code",
   "execution_count": 3,
   "metadata": {},
   "outputs": [
    {
     "data": {
      "text/html": [
       "<div>\n",
       "<style scoped>\n",
       "    .dataframe tbody tr th:only-of-type {\n",
       "        vertical-align: middle;\n",
       "    }\n",
       "\n",
       "    .dataframe tbody tr th {\n",
       "        vertical-align: top;\n",
       "    }\n",
       "\n",
       "    .dataframe thead th {\n",
       "        text-align: right;\n",
       "    }\n",
       "</style>\n",
       "<table border=\"1\" class=\"dataframe\">\n",
       "  <thead>\n",
       "    <tr style=\"text-align: right;\">\n",
       "      <th></th>\n",
       "      <th>sepal-length</th>\n",
       "      <th>sepal-width</th>\n",
       "      <th>petal-length</th>\n",
       "      <th>petal-width</th>\n",
       "    </tr>\n",
       "  </thead>\n",
       "  <tbody>\n",
       "    <tr>\n",
       "      <th>0</th>\n",
       "      <td>5.1</td>\n",
       "      <td>3.5</td>\n",
       "      <td>1.4</td>\n",
       "      <td>0.2</td>\n",
       "    </tr>\n",
       "    <tr>\n",
       "      <th>1</th>\n",
       "      <td>4.9</td>\n",
       "      <td>3.0</td>\n",
       "      <td>1.4</td>\n",
       "      <td>0.2</td>\n",
       "    </tr>\n",
       "    <tr>\n",
       "      <th>2</th>\n",
       "      <td>4.7</td>\n",
       "      <td>3.2</td>\n",
       "      <td>1.3</td>\n",
       "      <td>0.2</td>\n",
       "    </tr>\n",
       "    <tr>\n",
       "      <th>3</th>\n",
       "      <td>4.6</td>\n",
       "      <td>3.1</td>\n",
       "      <td>1.5</td>\n",
       "      <td>0.2</td>\n",
       "    </tr>\n",
       "    <tr>\n",
       "      <th>4</th>\n",
       "      <td>5.0</td>\n",
       "      <td>3.6</td>\n",
       "      <td>1.4</td>\n",
       "      <td>0.2</td>\n",
       "    </tr>\n",
       "  </tbody>\n",
       "</table>\n",
       "</div>"
      ],
      "text/plain": [
       "   sepal-length  sepal-width  petal-length  petal-width\n",
       "0           5.1          3.5           1.4          0.2\n",
       "1           4.9          3.0           1.4          0.2\n",
       "2           4.7          3.2           1.3          0.2\n",
       "3           4.6          3.1           1.5          0.2\n",
       "4           5.0          3.6           1.4          0.2"
      ]
     },
     "execution_count": 3,
     "metadata": {},
     "output_type": "execute_result"
    }
   ],
   "source": [
    "import pandas as pd\n",
    "import numpy as np\n",
    "import matplotlib.pyplot as plt\n",
    "from sklearn.datasets import load_iris \n",
    "from sklearn.linear_model import LinearRegression\n",
    "%matplotlib inline\n",
    "iris = load_iris()   #导入数据集iris\n",
    "data=pd.DataFrame(iris.data)\n",
    "data.columns=['sepal-length', 'sepal-width', 'petal-length', 'petal-width']\n",
    "data.head()   #显示前5行\n"
   ]
  },
  {
   "cell_type": "markdown",
   "metadata": {},
   "source": [
    "（2）对数据集中的'petal-length'和'petal-width'两列数据进行回归分析"
   ]
  },
  {
   "cell_type": "code",
   "execution_count": 4,
   "metadata": {},
   "outputs": [
    {
     "data": {
      "image/png": "[encoded data removed]",
      "text/plain": [
       "<Figure size 432x288 with 1 Axes>"
      ]
     },
     "metadata": {
      "needs_background": "light"
     },
     "output_type": "display_data"
    }
   ],
   "source": [
    "# 使用sklearn完成一元线性回归\n",
    "x = data['petal-length'].values\n",
    "y = data['petal-width'].values\n",
    "x = x.reshape(len(x),1)\n",
    "y = y.reshape(len(y),1)\n",
    "clf = LinearRegression()\n",
    "clf.fit(x,y)\n",
    "pre = clf.predict(x)\n",
    "plt.scatter(x,y,s=50)\n",
    "plt.plot(x,pre,'r-',linewidth=2)\n",
    "plt.xlabel('petal-length')\n",
    "plt.ylabel('petal-width')\n",
    "for idx, m in enumerate(x):  \n",
    "    plt.plot([m,m],[y[idx],pre[idx]], 'g-')  \n",
    "plt.show()\n"
   ]
  },
  {
   "cell_type": "markdown",
   "metadata": {},
   "source": [
    "（3）显示回归线的参数"
   ]
  },
  {
   "cell_type": "code",
   "execution_count": 5,
   "metadata": {},
   "outputs": [
    {
     "name": "stdout",
     "output_type": "stream",
     "text": [
      "系数 [[0.41575542]]\n",
      "截距 [-0.36307552]\n",
      "5.261263981765692e-33\n"
     ]
    }
   ],
   "source": [
    "print(u\"系数\", clf.coef_  )\n",
    "print(u\"截距\", clf.intercept_  )\n",
    "print(np.mean(y-pre)**2  )\n"
   ]
  },
  {
   "cell_type": "markdown",
   "metadata": {},
   "source": [
    "（4）对花萼长度为3.9的花，预测其花萼宽度。"
   ]
  },
  {
   "cell_type": "code",
   "execution_count": 6,
   "metadata": {},
   "outputs": [
    {
     "name": "stdout",
     "output_type": "stream",
     "text": [
      "[[1.2583706]]\n"
     ]
    }
   ],
   "source": [
    "print(clf.predict([[3.9]]) )"
   ]
  },
  {
   "cell_type": "markdown",
   "metadata": {},
   "source": [
    "多元线性回归模型的Python实现"
   ]
  },
  {
   "cell_type": "markdown",
   "metadata": {},
   "source": [
    "（1）导入数据集"
   ]
  },
  {
   "cell_type": "code",
   "execution_count": 7,
   "metadata": {},
   "outputs": [
    {
     "name": "stdout",
     "output_type": "stream",
     "text": [
      "数据信息描述如下:\n",
      "<class 'pandas.core.frame.DataFrame'>\n",
      "RangeIndex: 506 entries, 0 to 505\n",
      "Data columns (total 13 columns):\n",
      " #   Column  Non-Null Count  Dtype  \n",
      "---  ------  --------------  -----  \n",
      " 0   0       506 non-null    float64\n",
      " 1   1       506 non-null    float64\n",
      " 2   2       506 non-null    float64\n",
      " 3   3       506 non-null    float64\n",
      " 4   4       506 non-null    float64\n",
      " 5   5       506 non-null    float64\n",
      " 6   6       506 non-null    float64\n",
      " 7   7       506 non-null    float64\n",
      " 8   8       506 non-null    float64\n",
      " 9   9       506 non-null    float64\n",
      " 10  10      506 non-null    float64\n",
      " 11  11      506 non-null    float64\n",
      " 12  12      506 non-null    float64\n",
      "dtypes: float64(13)\n",
      "memory usage: 51.5 KB\n",
      "None\n",
      "           0        1         2        3        4        5         6        7        8          9        10         11        12     price\n",
      "96  0.115040 0.000000  2.890000 0.000000 0.445000 6.163000 69.600000 3.495200 2.000000 276.000000 18.000000 391.830000 11.340000 21.400000\n",
      "178 0.066420 0.000000  4.050000 0.000000 0.510000 6.860000 74.400000 2.915300 5.000000 296.000000 16.600000 391.270000  6.920000 29.900000\n",
      "150 1.656600 0.000000 19.580000 0.000000 0.871000 6.122000 97.300000 1.618000 5.000000 403.000000 14.700000 372.800000 14.100000 21.500000\n",
      "234 0.447910 0.000000  6.200000 1.000000 0.507000 6.726000 66.500000 3.651900 8.000000 307.000000 17.400000 360.200000  8.050000 29.000000\n",
      "333 0.050830 0.000000  5.190000 0.000000 0.515000 6.316000 38.100000 6.458400 5.000000 224.000000 20.200000 389.710000  5.680000 22.200000\n",
      "[[6.3200e-03 1.8000e+01 2.3100e+00 0.0000e+00 5.3800e-01 6.5750e+00\n",
      "  6.5200e+01 4.0900e+00 1.0000e+00 2.9600e+02 1.5300e+01 3.9690e+02\n",
      "  4.9800e+00]\n",
      " [2.7310e-02 0.0000e+00 7.0700e+00 0.0000e+00 4.6900e-01 6.4210e+00\n",
      "  7.8900e+01 4.9671e+00 2.0000e+00 2.4200e+02 1.7800e+01 3.9690e+02\n",
      "  9.1400e+00]\n",
      " [2.7290e-02 0.0000e+00 7.0700e+00 0.0000e+00 4.6900e-01 7.1850e+00\n",
      "  6.1100e+01 4.9671e+00 2.0000e+00 2.4200e+02 1.7800e+01 3.9283e+02\n",
      "  4.0300e+00]\n",
      " [3.2370e-02 0.0000e+00 2.1800e+00 0.0000e+00 4.5800e-01 6.9980e+00\n",
      "  4.5800e+01 6.0622e+00 3.0000e+00 2.2200e+02 1.8700e+01 3.9463e+02\n",
      "  2.9400e+00]\n",
      " [6.9050e-02 0.0000e+00 2.1800e+00 0.0000e+00 4.5800e-01 7.1470e+00\n",
      "  5.4200e+01 6.0622e+00 3.0000e+00 2.2200e+02 1.8700e+01 3.9690e+02\n",
      "  5.3300e+00]\n",
      " [2.9850e-02 0.0000e+00 2.1800e+00 0.0000e+00 4.5800e-01 6.4300e+00\n",
      "  5.8700e+01 6.0622e+00 3.0000e+00 2.2200e+02 1.8700e+01 3.9412e+02\n",
      "  5.2100e+00]\n",
      " [8.8290e-02 1.2500e+01 7.8700e+00 0.0000e+00 5.2400e-01 6.0120e+00\n",
      "  6.6600e+01 5.5605e+00 5.0000e+00 3.1100e+02 1.5200e+01 3.9560e+02\n",
      "  1.2430e+01]\n",
      " [1.4455e-01 1.2500e+01 7.8700e+00 0.0000e+00 5.2400e-01 6.1720e+00\n",
      "  9.6100e+01 5.9505e+00 5.0000e+00 3.1100e+02 1.5200e+01 3.9690e+02\n",
      "  1.9150e+01]\n",
      " [2.1124e-01 1.2500e+01 7.8700e+00 0.0000e+00 5.2400e-01 5.6310e+00\n",
      "  1.0000e+02 6.0821e+00 5.0000e+00 3.1100e+02 1.5200e+01 3.8663e+02\n",
      "  2.9930e+01]\n",
      " [1.7004e-01 1.2500e+01 7.8700e+00 0.0000e+00 5.2400e-01 6.0040e+00\n",
      "  8.5900e+01 6.5921e+00 5.0000e+00 3.1100e+02 1.5200e+01 3.8671e+02\n",
      "  1.7100e+01]]\n",
      "[24.  21.6 34.7 33.4 36.2 28.7 22.9 27.1 16.5 18.9]\n"
     ]
    }
   ],
   "source": [
    "import numpy as np\n",
    "import pandas as pd\n",
    "from sklearn import datasets\n",
    "import matplotlib.pyplot as plt\n",
    "np.set_printoptions(threshold=np.infty)\n",
    "import warnings\n",
    "\n",
    "warnings.filterwarnings('ignore')\n",
    "np.set_printoptions(threshold=np.infty)\n",
    "pd.options.display.float_format = '{:,.6f}'.format\n",
    "pd.set_option('display.max_rows', 5000)\n",
    "pd.set_option('display.max_columns', 500)\n",
    "pd.set_option('display.width', 1000)\n",
    "\n",
    "# 获取数据\n",
    "d=datasets.load_boston()\n",
    "data=pd.DataFrame(d.data)\n",
    "print(\"数据信息描述如下:\")\n",
    "print(data.info())\n",
    "data['price']=d.target\n",
    "\n",
    "print(data.sample(5))\n",
    "x= data.values[:, :-1]\n",
    "y= data.values[:, -1]\n",
    "print(x[:10, :])\n",
    "print(y[:10])\n"
   ]
  },
  {
   "cell_type": "markdown",
   "metadata": {},
   "source": [
    "（2）多元线性回归建模"
   ]
  },
  {
   "cell_type": "code",
   "execution_count": 8,
   "metadata": {},
   "outputs": [
    {
     "name": "stdout",
     "output_type": "stream",
     "text": [
      "多元线性回归模型系数：\n",
      " [-7.18193450e-02  5.30929833e-02  8.89401987e-02  2.58828338e+00\n",
      " -1.68736702e+01  4.16057016e+00  1.12240087e-02 -1.39942513e+00\n",
      "  3.12802694e-01 -1.48923405e-02 -9.90156198e-01  1.30697538e-02\n",
      " -5.27263444e-01]\n",
      "多元线性回归模型常数项： 32.267237150461575\n"
     ]
    }
   ],
   "source": [
    "from sklearn.linear_model import LinearRegression   \n",
    "#引入多元线性回归算法模块进行相应的训练\n",
    "simple2=LinearRegression()\n",
    "from sklearn.model_selection import train_test_split\n",
    "x_train,x_test,y_train,y_test=train_test_split(x,y,random_state=666)\n",
    "simple2.fit(x_train,y_train)\n",
    "print('多元线性回归模型系数：\\n',simple2.coef_)\n",
    "print('多元线性回归模型常数项：',simple2.intercept_)\n",
    "y_predict=simple2.predict(x_test)\n"
   ]
  },
  {
   "cell_type": "markdown",
   "metadata": {},
   "source": [
    "（3）模型分析"
   ]
  },
  {
   "cell_type": "code",
   "execution_count": 9,
   "metadata": {},
   "outputs": [
    {
     "name": "stdout",
     "output_type": "stream",
     "text": [
      "预测值的均方误差： 24.995009571399805\n",
      "0.6499762439230503\n",
      "0.6499762439230503\n",
      "各特征间的系数矩阵：\n",
      " [-7.18193450e-02  5.30929833e-02  8.89401987e-02  2.58828338e+00\n",
      " -1.68736702e+01  4.16057016e+00  1.12240087e-02 -1.39942513e+00\n",
      "  3.12802694e-01 -1.48923405e-02 -9.90156198e-01  1.30697538e-02\n",
      " -5.27263444e-01]\n",
      "影响房价的特征排序：\n",
      " [ 4  7 10 12  0  9  6 11  1  2  8  3  5]\n",
      "影响房价的特征排序：\n",
      " ['NOX' 'DIS' 'PTRATIO' 'LSTAT' 'CRIM' 'TAX' 'AGE' 'B' 'ZN' 'INDUS' 'RAD'\n",
      " 'CHAS' 'RM']\n"
     ]
    }
   ],
   "source": [
    "from sklearn.metrics import mean_absolute_error\n",
    "from sklearn.metrics import mean_squared_error\n",
    "from sklearn.metrics import r2_score    \n",
    "#直接调用库函数进行输出R2\n",
    "print('预测值的均方误差：',\n",
    "mean_squared_error(y_test,y_predict))\n",
    "print(r2_score(y_test,y_predict))\n",
    "print(simple2.score(x_test,y_test))\n",
    "print('各特征间的系数矩阵：\\n',simple2.coef_)            \n",
    "print('影响房价的特征排序：\\n',np.argsort(simple2.coef_))  \n",
    "print('影响房价的特征排序：\\n',\n",
    "d.feature_names[np.argsort(simple2.coef_)])\n"
   ]
  },
  {
   "cell_type": "markdown",
   "metadata": {},
   "source": [
    "逻辑回归"
   ]
  },
  {
   "cell_type": "markdown",
   "metadata": {},
   "source": [
    "Logistic回归Python实现\n",
    "\n",
    "（1）导入相关包，打开数据\n"
   ]
  },
  {
   "cell_type": "code",
   "execution_count": 10,
   "metadata": {},
   "outputs": [
    {
     "name": "stdout",
     "output_type": "stream",
     "text": [
      "前8条数据:\n",
      " [[5.1 3.5 1.4 0.2]\n",
      " [4.9 3.  1.4 0.2]\n",
      " [4.7 3.2 1.3 0.2]\n",
      " [4.6 3.1 1.5 0.2]\n",
      " [5.  3.6 1.4 0.2]\n",
      " [5.4 3.9 1.7 0.4]\n",
      " [4.6 3.4 1.4 0.3]\n",
      " [5.  3.4 1.5 0.2]]\n",
      "前8条数据对应的类型： [0 0 0 0 0 0 0 0]\n"
     ]
    }
   ],
   "source": [
    "from sklearn.datasets import load_iris\n",
    "X = load_iris().data\n",
    "y = load_iris().target\n",
    "print('前8条数据:\\n',X[:8])\n",
    "print('前8条数据对应的类型：',y[:8])\n"
   ]
  },
  {
   "cell_type": "markdown",
   "metadata": {},
   "source": [
    "（2）划分训练集和测试集并进行归一化"
   ]
  },
  {
   "cell_type": "code",
   "execution_count": 11,
   "metadata": {},
   "outputs": [
    {
     "name": "stdout",
     "output_type": "stream",
     "text": [
      "[[ 0.01543995 -0.11925475  0.22512685  0.35579762]\n",
      " [-0.09984503 -1.04039491  0.11355956 -0.02984109]\n",
      " [ 1.05300481 -0.11925475  0.95031423  1.12707506]\n",
      " [-1.36797986  0.34131533 -1.39259884 -1.31530348]\n",
      " [ 1.1682898   0.11103029  0.72717965  1.38416753]]\n"
     ]
    }
   ],
   "source": [
    "from sklearn.model_selection import train_test_split\n",
    "X_train, X_test, y_train, y_test = train_test_split(X, y, test_size = 0.25, random_state = 0)\n",
    "from sklearn.preprocessing import StandardScaler\n",
    "sc = StandardScaler()\n",
    "X_train = sc.fit_transform(X_train)\n",
    "X_test = sc.transform(X_test)\n",
    "print(X_train[:5])\n"
   ]
  },
  {
   "cell_type": "markdown",
   "metadata": {},
   "source": [
    "（3）训练逻辑回归模型并对测试集进行预测"
   ]
  },
  {
   "cell_type": "code",
   "execution_count": 12,
   "metadata": {},
   "outputs": [
    {
     "name": "stdout",
     "output_type": "stream",
     "text": [
      "Accuracy of LR Classifier:0.974\n"
     ]
    }
   ],
   "source": [
    "from sklearn.linear_model import LogisticRegression\n",
    "classifier = LogisticRegression(random_state = 0)\n",
    "classifier.fit(X_train, y_train)\n",
    "y_pred = classifier.predict(X_test)\n",
    "#用LogisticRegression自带的score获得模型在测试集上的准确性\n",
    "print('Accuracy of LR Classifier:%.3f'%classifier.score(X_test,y_test))\n"
   ]
  },
  {
   "cell_type": "markdown",
   "metadata": {},
   "source": [
    "多项式回归Python实现\n",
    "\n",
    "（1）准备数据\n"
   ]
  },
  {
   "cell_type": "code",
   "execution_count": 13,
   "metadata": {},
   "outputs": [
    {
     "data": {
      "image/png": "[encoded data removed]",
      "text/plain": [
       "<Figure size 432x288 with 1 Axes>"
      ]
     },
     "metadata": {
      "needs_background": "light"
     },
     "output_type": "display_data"
    }
   ],
   "source": [
    "import numpy as np\n",
    "import matplotlib.pyplot as plt\n",
    "x = np.random.uniform(-3,3, size=100) # 产生100个随机数\n",
    "X = x.reshape(-1,1) #将x变成矩阵，1行1列的形式\n",
    "y = 0.5 * x**2 +x +2 + np.random.normal(0,1,size=100) \n",
    "#数据中引入噪声\n",
    "plt.scatter(x,y)\n",
    "plt.show()\n"
   ]
  },
  {
   "cell_type": "markdown",
   "metadata": {},
   "source": [
    "（2）线性回归"
   ]
  },
  {
   "cell_type": "code",
   "execution_count": 14,
   "metadata": {},
   "outputs": [
    {
     "data": {
      "image/png": "[encoded data removed]",
      "text/plain": [
       "<Figure size 432x288 with 1 Axes>"
      ]
     },
     "metadata": {
      "needs_background": "light"
     },
     "output_type": "display_data"
    }
   ],
   "source": [
    "from sklearn.linear_model import LinearRegression\n",
    "#线性回归\n",
    "lin_reg = LinearRegression()\n",
    "lin_reg.fit(X,y)\n",
    "y_predict = lin_reg.predict(X)\n",
    "plt.rcParams['font.family']=['SimHei']\n",
    "plt.rcParams['axes.unicode_minus']=False\n",
    "plt.title('线性回归')\n",
    "plt.scatter(x,y)\n",
    "plt.plot(x,y_predict,color='r')\n",
    "plt.show()\n"
   ]
  },
  {
   "cell_type": "markdown",
   "metadata": {},
   "source": [
    "（3）多项式回归"
   ]
  },
  {
   "cell_type": "code",
   "execution_count": 15,
   "metadata": {},
   "outputs": [
    {
     "data": {
      "text/plain": [
       "Text(0.5, 1.0, '多项式回归')"
      ]
     },
     "execution_count": 15,
     "metadata": {},
     "output_type": "execute_result"
    },
    {
     "data": {
      "image/png": "[encoded data removed]",
      "text/plain": [
       "<Figure size 432x288 with 1 Axes>"
      ]
     },
     "metadata": {
      "needs_background": "light"
     },
     "output_type": "display_data"
    }
   ],
   "source": [
    "from sklearn.preprocessing import PolynomialFeatures\n",
    "poly = PolynomialFeatures(degree=2) \n",
    "#设置最多添加几次幂的特征项\n",
    "poly.fit(X)\n",
    "x2 = poly.transform(X)\n",
    "from sklearn.linear_model import LinearRegression\n",
    "#接下来的代码和线性回归一致\n",
    "lin_reg2 = LinearRegression()\n",
    "lin_reg2.fit(x2,y)\n",
    "y_predict2 = lin_reg2.predict(x2)\n",
    "plt.scatter(x,y)\n",
    "plt.plot(np.sort(x),y_predict2[np.argsort(x)],color='r')\n",
    "plt.title('多项式回归')\n"
   ]
  },
  {
   "cell_type": "markdown",
   "metadata": {},
   "source": [
    "岭回归的Python实现"
   ]
  },
  {
   "cell_type": "code",
   "execution_count": 16,
   "metadata": {},
   "outputs": [
    {
     "name": "stdout",
     "output_type": "stream",
     "text": [
      "系数矩阵: [1.59032686]\n",
      "线性回归模型:\n",
      " RidgeCV(alphas=array([ 0.1,  1. , 10. ]))\n"
     ]
    },
    {
     "data": {
      "image/png": "[encoded data removed]",
      "text/plain": [
       "<Figure size 432x288 with 1 Axes>"
      ]
     },
     "metadata": {
      "needs_background": "light"
     },
     "output_type": "display_data"
    }
   ],
   "source": [
    "import numpy as np \n",
    "import matplotlib.pyplot as plt  \n",
    "from sklearn.linear_model import Ridge,RidgeCV   \n",
    "# Ridge岭回归，RidgeCV带有广义交叉验证的岭回归\n",
    "data=[\n",
    "    [0.07,3.12],[0.41,3.82],[0.99,4.55],[0.73,4.25],[0.98,4.56],\n",
    "    [0.55,3.92],[0.34,3.53],[0.03,3.15],[0.13,3.11],[0.13,3.15],\n",
    "    [0.31,3.47],[0.65,4.12],[0.73,4.28],[0.23,3.48],[0.96,4.65],\n",
    "    [0.62,3.95],[0.36,3.51],[0.15,3.12],[0.63,4.09],[0.23,3.46],\n",
    "    [0.08,3.22],[0.06,3.19],[0.92,4.63],[0.71,4.29],[0.01,3.08],\n",
    "    [0.34,3.45],[0.04,3.16],[0.21,3.36],[0.61,3.99],[0.54,3.89] ]\n",
    "#生成X和y矩阵\n",
    "dataMat = np.array(data)\n",
    "X = dataMat[:,0:1]   # 变量x\n",
    "y = dataMat[:,1]   #变量y\n",
    "# 岭回归\n",
    "model = Ridge(alpha=0.5)\n",
    "model = RidgeCV(alphas=[0.1, 1.0, 10.0])  \n",
    "# RidgeCV可以设置多个参数，算法使用交叉验证获取最佳参数值\n",
    "model.fit(X, y)   # 线性回归建模\n",
    "print('系数矩阵:',model.coef_)\n",
    "print('线性回归模型:\\n',model)\n",
    "# print('交叉验证最佳alpha值',model.alpha_)  \n",
    "# 只有在使用RidgeCV算法时才有效\n",
    "# 使用模型预测\n",
    "predicted = model.predict(X)\n",
    "# 绘制散点图 参数：x横轴 y纵轴\n",
    "plt.scatter(X, y, marker='o')\n",
    "plt.plot(X, predicted,c='r')\n",
    "# 绘制x轴和y轴坐标\n",
    "plt.xlabel('x')\n",
    "plt.ylabel('y')\n",
    "# 显示图形\n",
    "plt.show()\n"
   ]
  },
  {
   "cell_type": "markdown",
   "metadata": {},
   "source": [
    "Lasso回归Python实现"
   ]
  },
  {
   "cell_type": "code",
   "execution_count": 17,
   "metadata": {},
   "outputs": [
    {
     "name": "stdout",
     "output_type": "stream",
     "text": [
      "r^2 on test data : 0.518282\n"
     ]
    },
    {
     "data": {
      "image/png": "[encoded data removed]",
      "text/plain": [
       "<Figure size 432x288 with 1 Axes>"
      ]
     },
     "metadata": {
      "needs_background": "light"
     },
     "output_type": "display_data"
    }
   ],
   "source": [
    "import numpy as np\n",
    "import matplotlib.pyplot as plt\n",
    "from sklearn.metrics import r2_score\n",
    "#def main():\n",
    "# 产生一些稀疏数据\n",
    "np.random.seed(42)\n",
    "n_samples, n_features = 50, 100\n",
    "X = np.random.randn(n_samples, n_features) \n",
    "# randn(...)产生的是正态分布的数据\n",
    "coef = 3 * np.random.randn(n_features)\n",
    "# 每个特征对应一个系数\n",
    "inds = np.arange(n_features)\n",
    "np.random.shuffle(inds)\n",
    "coef[inds[10:]] = 0 \n",
    "# 稀疏化系数--随机地把系数向量1x200的其中10个值变为0\n",
    "y = np.dot(X, coef) \n",
    "# 添加噪声：零均值，标准差为 0.01 的高斯噪声\n",
    "y += 0.01 * np.random.normal(size=n_samples)\n",
    "# 把数据划分成训练集和测试集\n",
    "n_samples = X.shape[0]\n",
    "X_train, y_train = X[:n_samples // 2], y[:n_samples // 2]\n",
    "X_test, y_test = X[n_samples // 2:], y[n_samples // 2:]\n",
    "# 训练 Lasso 模型\n",
    "from sklearn.linear_model import Lasso\n",
    "alpha = 0.1\n",
    "lasso = Lasso(alpha=alpha)\n",
    "y_pred_lasso = lasso.fit(X_train, y_train).predict(X_test)\n",
    "r2_score_lasso = r2_score(y_test, y_pred_lasso)\n",
    "print(\"r^2 on test data : %f\" % r2_score_lasso)\n",
    "plt.plot(lasso.coef_, color='gold', linewidth=2,label='Lasso coefficients')\n",
    "plt.title(\"Lasso R^2: %f\" % r2_score_lasso)\n",
    "plt.show()\n"
   ]
  },
  {
   "cell_type": "code",
   "execution_count": null,
   "metadata": {},
   "outputs": [],
   "source": []
  }
 ],
 "metadata": {
  "kernelspec": {
   "display_name": "Python 3 (ipykernel)",
   "language": "python",
   "name": "python3"
  },
  "language_info": {
   "codemirror_mode": {
    "name": "ipython",
    "version": 3
   },
   "file_extension": ".py",
   "mimetype": "text/x-python",
   "name": "python",
   "nbconvert_exporter": "python",
   "pygments_lexer": "ipython3",
   "version": "3.7.11"
  },
  "toc": {
   "base_numbering": 1,
   "nav_menu": {},
   "number_sections": true,
   "sideBar": true,
   "skip_h1_title": false,
   "title_cell": "Table of Contents",
   "title_sidebar": "Contents",
   "toc_cell": false,
   "toc_position": {},
   "toc_section_display": true,
   "toc_window_display": false
  }
 },
 "nbformat": 4,
 "nbformat_minor": 4
}
